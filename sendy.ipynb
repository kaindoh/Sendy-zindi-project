{
  "nbformat": 4,
  "nbformat_minor": 0,
  "metadata": {
    "colab": {
      "name": "sendy",
      "provenance": [],
      "collapsed_sections": [],
      "toc_visible": true,
      "include_colab_link": true
    },
    "kernelspec": {
      "name": "python3",
      "display_name": "Python 3"
    },
    "accelerator": "GPU"
  },
  "cells": [
    {
      "cell_type": "markdown",
      "metadata": {
        "id": "view-in-github",
        "colab_type": "text"
      },
      "source": [
        "<a href=\"https://colab.research.google.com/github/kaindoh/Sendy-zindi-project/blob/master/sendy.ipynb\" target=\"_parent\"><img src=\"https://colab.research.google.com/assets/colab-badge.svg\" alt=\"Open In Colab\"/></a>"
      ]
    },
    {
      "cell_type": "code",
      "metadata": {
        "id": "eTHRZ671znAC",
        "colab_type": "code",
        "colab": {}
      },
      "source": [
        "import pandas as pd\n",
        "import numpy as np\n",
        "import seaborn as sns\n",
        "import matplotlib.pyplot as plt\n",
        "from sklearn.preprocessing import StandardScaler, RobustScaler, MinMaxScaler\n",
        "from sklearn.model_selection import train_test_split, KFold, StratifiedKFold, GridSearchCV, RandomizedSearchCV,cross_val_score\n",
        "from sklearn.ensemble import RandomForestRegressor, AdaBoostRegressor, GradientBoostingRegressor,ExtraTreesRegressor\n",
        "from xgboost import XGBRFRegressor\n",
        "import lightgbm as lgb\n",
        "import xgboost as xgb\n",
        "import requests\n",
        "from io import StringIO\n",
        "import hyperopt\n",
        "import datetime\n",
        "import datetime as dt\n",
        "import warnings\n",
        "warnings.filterwarnings('ignore')"
      ],
      "execution_count": 0,
      "outputs": []
    },
    {
      "cell_type": "code",
      "metadata": {
        "id": "HZTlKrrlzm9B",
        "colab_type": "code",
        "colab": {}
      },
      "source": [
        "train = 'https://drive.google.com/file/d/1ZP9pFBATu38l97Tut5hKLvpzKRLFXX_P/view?usp=sharing'\n",
        "test = 'https://drive.google.com/file/d/1_aElMoEIRs55avOafA7U1_YXEuaDBXLh/view?usp=sharing'\n",
        "submission = 'https://drive.google.com/file/d/1mqXS8euMqF9_bhTEU6O9cLHoX2FI_5HD/view?usp=sharing'\n",
        "dictionary = 'https://drive.google.com/file/d/1juqltwSs6OXQgJJEhTxD7Gm443fnLpCp/view?usp=sharing'\n",
        "riders = 'https://drive.google.com/file/d/19-aVgAcKRxX_Tk9StUQMNeAUVi0ZTo9K/view?usp=sharing'\n",
        "\n",
        "def read_csv(url):\n",
        "  url = 'https://drive.google.com/uc?export=download&id=' + url.split('/')[-2]\n",
        "  csv_raw = requests.get(url).text\n",
        "  csv = StringIO(csv_raw)\n",
        "  return csv\n",
        "\n",
        "df = pd.read_csv(read_csv(train))\n",
        "df1 = pd.read_csv(read_csv(test))\n",
        "sub = pd.read_csv(read_csv(submission))\n",
        "dictionary = pd.read_csv(read_csv(dictionary))\n",
        "riders = pd.read_csv(read_csv(riders))"
      ],
      "execution_count": 0,
      "outputs": []
    },
    {
      "cell_type": "markdown",
      "metadata": {
        "id": "FM_S0--VaHXW",
        "colab_type": "text"
      },
      "source": [
        "### Cleaning column names"
      ]
    },
    {
      "cell_type": "code",
      "metadata": {
        "id": "gj959gpnjHq6",
        "colab_type": "code",
        "outputId": "9d333e90-43d0-41a5-a985-c94d7c10bd32",
        "colab": {
          "base_uri": "https://localhost:8080/",
          "height": 272
        }
      },
      "source": [
        "df.columns"
      ],
      "execution_count": 287,
      "outputs": [
        {
          "output_type": "execute_result",
          "data": {
            "text/plain": [
              "Index(['Order No', 'User Id', 'Vehicle Type', 'Platform Type',\n",
              "       'Personal or Business', 'Placement - Day of Month',\n",
              "       'Placement - Weekday (Mo = 1)', 'Placement - Time',\n",
              "       'Confirmation - Day of Month', 'Confirmation - Weekday (Mo = 1)',\n",
              "       'Confirmation - Time', 'Arrival at Pickup - Day of Month',\n",
              "       'Arrival at Pickup - Weekday (Mo = 1)', 'Arrival at Pickup - Time',\n",
              "       'Pickup - Day of Month', 'Pickup - Weekday (Mo = 1)', 'Pickup - Time',\n",
              "       'Arrival at Destination - Day of Month',\n",
              "       'Arrival at Destination - Weekday (Mo = 1)',\n",
              "       'Arrival at Destination - Time', 'Distance (KM)', 'Temperature',\n",
              "       'Precipitation in millimeters', 'Pickup Lat', 'Pickup Long',\n",
              "       'Destination Lat', 'Destination Long', 'Rider Id',\n",
              "       'Time from Pickup to Arrival'],\n",
              "      dtype='object')"
            ]
          },
          "metadata": {
            "tags": []
          },
          "execution_count": 287
        }
      ]
    },
    {
      "cell_type": "code",
      "metadata": {
        "id": "RVcpphrdg8pK",
        "colab_type": "code",
        "outputId": "153cdf6d-9385-434e-f627-7400bd85e0ca",
        "colab": {
          "base_uri": "https://localhost:8080/",
          "height": 235
        }
      },
      "source": [
        "\n",
        "df.columns = df.columns.str.lower().str.replace(' ', '_').str.replace('-', '_').str.replace('=', '_')\n",
        "df.columns = df.columns.str.replace('__', '_')\n",
        "df.columns = df.columns.str.replace('(', '').str.replace(')', '')\n",
        "df.columns = df.columns.str.replace('__', '_')\n",
        "df.columns"
      ],
      "execution_count": 288,
      "outputs": [
        {
          "output_type": "execute_result",
          "data": {
            "text/plain": [
              "Index(['order_no', 'user_id', 'vehicle_type', 'platform_type',\n",
              "       'personal_or_business', 'placement_day_of_month',\n",
              "       'placement_weekday_mo_1', 'placement_time', 'confirmation_day_of_month',\n",
              "       'confirmation_weekday_mo_1', 'confirmation_time',\n",
              "       'arrival_at_pickup_day_of_month', 'arrival_at_pickup_weekday_mo_1',\n",
              "       'arrival_at_pickup_time', 'pickup_day_of_month', 'pickup_weekday_mo_1',\n",
              "       'pickup_time', 'arrival_at_destination_day_of_month',\n",
              "       'arrival_at_destination_weekday_mo_1', 'arrival_at_destination_time',\n",
              "       'distance_km', 'temperature', 'precipitation_in_millimeters',\n",
              "       'pickup_lat', 'pickup_long', 'destination_lat', 'destination_long',\n",
              "       'rider_id', 'time_from_pickup_to_arrival'],\n",
              "      dtype='object')"
            ]
          },
          "metadata": {
            "tags": []
          },
          "execution_count": 288
        }
      ]
    },
    {
      "cell_type": "code",
      "metadata": {
        "id": "zE0AjHljQM4A",
        "colab_type": "code",
        "colab": {}
      },
      "source": [
        "# Arrival at Destination - Day of Month\n",
        "# Arrival at Destination - Weekday (Mo = 1)\n",
        "# Arrival at Destination - Time\n",
        "# Time from Pickup to Arrival"
      ],
      "execution_count": 0,
      "outputs": []
    },
    {
      "cell_type": "code",
      "metadata": {
        "id": "yXsXr1fWP7Y8",
        "colab_type": "code",
        "colab": {}
      },
      "source": [
        "df.drop(['arrival_at_destination_day_of_month', 'arrival_at_destination_weekday_mo_1','arrival_at_destination_time'],axis=1,inplace=True)"
      ],
      "execution_count": 0,
      "outputs": []
    },
    {
      "cell_type": "code",
      "metadata": {
        "id": "pFk6774QKumm",
        "colab_type": "code",
        "outputId": "1e491ddd-05b2-45e1-c555-b4e431d71a5e",
        "colab": {
          "base_uri": "https://localhost:8080/",
          "height": 199
        }
      },
      "source": [
        "\n",
        "df1.columns = df1.columns.str.lower().str.replace(' ', '_').str.replace('-', '_').str.replace('=', '_')\n",
        "df1.columns = df1.columns.str.replace('__', '_')\n",
        "df1.columns = df1.columns.str.replace('(', '').str.replace(')', '')\n",
        "df1.columns = df1.columns.str.replace('__', '_')\n",
        "df1.columns"
      ],
      "execution_count": 291,
      "outputs": [
        {
          "output_type": "execute_result",
          "data": {
            "text/plain": [
              "Index(['order_no', 'user_id', 'vehicle_type', 'platform_type',\n",
              "       'personal_or_business', 'placement_day_of_month',\n",
              "       'placement_weekday_mo_1', 'placement_time', 'confirmation_day_of_month',\n",
              "       'confirmation_weekday_mo_1', 'confirmation_time',\n",
              "       'arrival_at_pickup_day_of_month', 'arrival_at_pickup_weekday_mo_1',\n",
              "       'arrival_at_pickup_time', 'pickup_day_of_month', 'pickup_weekday_mo_1',\n",
              "       'pickup_time', 'distance_km', 'temperature',\n",
              "       'precipitation_in_millimeters', 'pickup_lat', 'pickup_long',\n",
              "       'destination_lat', 'destination_long', 'rider_id'],\n",
              "      dtype='object')"
            ]
          },
          "metadata": {
            "tags": []
          },
          "execution_count": 291
        }
      ]
    },
    {
      "cell_type": "markdown",
      "metadata": {
        "id": "j3ZYdCxNb0L7",
        "colab_type": "text"
      },
      "source": [
        "### Ordering the dataset"
      ]
    },
    {
      "cell_type": "code",
      "metadata": {
        "id": "IKAklFUQPcsj",
        "colab_type": "code",
        "outputId": "b58c7638-5ba8-4142-a2ec-a7afa8bc87f6",
        "colab": {
          "base_uri": "https://localhost:8080/",
          "height": 217
        }
      },
      "source": [
        "df.columns\n"
      ],
      "execution_count": 292,
      "outputs": [
        {
          "output_type": "execute_result",
          "data": {
            "text/plain": [
              "Index(['order_no', 'user_id', 'vehicle_type', 'platform_type',\n",
              "       'personal_or_business', 'placement_day_of_month',\n",
              "       'placement_weekday_mo_1', 'placement_time', 'confirmation_day_of_month',\n",
              "       'confirmation_weekday_mo_1', 'confirmation_time',\n",
              "       'arrival_at_pickup_day_of_month', 'arrival_at_pickup_weekday_mo_1',\n",
              "       'arrival_at_pickup_time', 'pickup_day_of_month', 'pickup_weekday_mo_1',\n",
              "       'pickup_time', 'distance_km', 'temperature',\n",
              "       'precipitation_in_millimeters', 'pickup_lat', 'pickup_long',\n",
              "       'destination_lat', 'destination_long', 'rider_id',\n",
              "       'time_from_pickup_to_arrival'],\n",
              "      dtype='object')"
            ]
          },
          "metadata": {
            "tags": []
          },
          "execution_count": 292
        }
      ]
    },
    {
      "cell_type": "code",
      "metadata": {
        "id": "AP7ovzXTbBiq",
        "colab_type": "code",
        "colab": {}
      },
      "source": [
        "# #Stripping the order no to have whole numbers\n",
        "# df['order_no']= df['order_no'].str.replace('Order_No_', '')\n",
        "\n",
        "# #Changing the data types\n",
        "# df['order_no']=df['order_no'].astype(int)\n",
        "# df.sort_values(by=['order_no'], ascending= True)\n"
      ],
      "execution_count": 0,
      "outputs": []
    },
    {
      "cell_type": "code",
      "metadata": {
        "id": "Pfe2pWmbLAfT",
        "colab_type": "code",
        "colab": {}
      },
      "source": [
        "# df1['order_no']= df1['order_no'].str.replace('Order_No_', '')\n",
        "\n",
        "# #Changing the data types\n",
        "# df1['order_no']=df1['order_no'].astype(int)\n",
        "# df1.sort_values(by=['order_no'], ascending= True)\n"
      ],
      "execution_count": 0,
      "outputs": []
    },
    {
      "cell_type": "code",
      "metadata": {
        "id": "FcKR9AkFdY6O",
        "colab_type": "code",
        "colab": {}
      },
      "source": [
        "df['personal_or_business']=df['personal_or_business'].astype(\"category\")\n",
        "df1['personal_or_business']=df1['personal_or_business'].astype(\"category\")"
      ],
      "execution_count": 0,
      "outputs": []
    },
    {
      "cell_type": "markdown",
      "metadata": {
        "id": "pvztfLQRcR18",
        "colab_type": "text"
      },
      "source": [
        "### Filling Temperature missing values"
      ]
    },
    {
      "cell_type": "code",
      "metadata": {
        "id": "1cPvbIwKcV-T",
        "colab_type": "code",
        "colab": {}
      },
      "source": [
        "df['temperature'].fillna(df['temperature'].mean(), inplace= True)"
      ],
      "execution_count": 0,
      "outputs": []
    },
    {
      "cell_type": "code",
      "metadata": {
        "id": "sDPqiKAch95e",
        "colab_type": "code",
        "colab": {}
      },
      "source": [
        "df1['temperature'].fillna(df['temperature'].mean(), inplace= True)"
      ],
      "execution_count": 0,
      "outputs": []
    },
    {
      "cell_type": "code",
      "metadata": {
        "id": "X8GAa7TcLORD",
        "colab_type": "code",
        "colab": {}
      },
      "source": [
        "# #Forward Fill Temprature Column\n",
        "# df1['temperature'].fillna(method='ffill', inplace= True)\n",
        "\n",
        "# #Backward Fill Temprature column\n",
        "# df1['temperature'].fillna(method='bfill', inplace= True)\n",
        "#Filling in the Precipitation column with 0\n",
        "df['precipitation_in_millimeters'].fillna(0, inplace= True)\n",
        "\n",
        "#Filling in the Precipitation column with 0\n",
        "df1['precipitation_in_millimeters'].fillna(0, inplace= True)"
      ],
      "execution_count": 0,
      "outputs": []
    },
    {
      "cell_type": "code",
      "metadata": {
        "id": "9dtln5xIJEp1",
        "colab_type": "code",
        "outputId": "18ed954a-4fe4-4d4d-962b-f294a77bd17e",
        "colab": {
          "base_uri": "https://localhost:8080/",
          "height": 218
        }
      },
      "source": [
        "df.head()"
      ],
      "execution_count": 297,
      "outputs": [
        {
          "output_type": "execute_result",
          "data": {
            "text/html": [
              "<div>\n",
              "<style scoped>\n",
              "    .dataframe tbody tr th:only-of-type {\n",
              "        vertical-align: middle;\n",
              "    }\n",
              "\n",
              "    .dataframe tbody tr th {\n",
              "        vertical-align: top;\n",
              "    }\n",
              "\n",
              "    .dataframe thead th {\n",
              "        text-align: right;\n",
              "    }\n",
              "</style>\n",
              "<table border=\"1\" class=\"dataframe\">\n",
              "  <thead>\n",
              "    <tr style=\"text-align: right;\">\n",
              "      <th></th>\n",
              "      <th>order_no</th>\n",
              "      <th>user_id</th>\n",
              "      <th>vehicle_type</th>\n",
              "      <th>platform_type</th>\n",
              "      <th>personal_or_business</th>\n",
              "      <th>placement_day_of_month</th>\n",
              "      <th>placement_weekday_mo_1</th>\n",
              "      <th>placement_time</th>\n",
              "      <th>confirmation_day_of_month</th>\n",
              "      <th>confirmation_weekday_mo_1</th>\n",
              "      <th>confirmation_time</th>\n",
              "      <th>arrival_at_pickup_day_of_month</th>\n",
              "      <th>arrival_at_pickup_weekday_mo_1</th>\n",
              "      <th>arrival_at_pickup_time</th>\n",
              "      <th>pickup_day_of_month</th>\n",
              "      <th>pickup_weekday_mo_1</th>\n",
              "      <th>pickup_time</th>\n",
              "      <th>distance_km</th>\n",
              "      <th>temperature</th>\n",
              "      <th>precipitation_in_millimeters</th>\n",
              "      <th>pickup_lat</th>\n",
              "      <th>pickup_long</th>\n",
              "      <th>destination_lat</th>\n",
              "      <th>destination_long</th>\n",
              "      <th>rider_id</th>\n",
              "      <th>time_from_pickup_to_arrival</th>\n",
              "    </tr>\n",
              "  </thead>\n",
              "  <tbody>\n",
              "    <tr>\n",
              "      <th>0</th>\n",
              "      <td>Order_No_4211</td>\n",
              "      <td>User_Id_633</td>\n",
              "      <td>Bike</td>\n",
              "      <td>3</td>\n",
              "      <td>Business</td>\n",
              "      <td>9</td>\n",
              "      <td>5</td>\n",
              "      <td>9:35:46 AM</td>\n",
              "      <td>9</td>\n",
              "      <td>5</td>\n",
              "      <td>9:40:10 AM</td>\n",
              "      <td>9</td>\n",
              "      <td>5</td>\n",
              "      <td>10:04:47 AM</td>\n",
              "      <td>9</td>\n",
              "      <td>5</td>\n",
              "      <td>10:27:30 AM</td>\n",
              "      <td>4</td>\n",
              "      <td>20.400000</td>\n",
              "      <td>0.0</td>\n",
              "      <td>-1.317755</td>\n",
              "      <td>36.830370</td>\n",
              "      <td>-1.300406</td>\n",
              "      <td>36.829741</td>\n",
              "      <td>Rider_Id_432</td>\n",
              "      <td>745</td>\n",
              "    </tr>\n",
              "    <tr>\n",
              "      <th>1</th>\n",
              "      <td>Order_No_25375</td>\n",
              "      <td>User_Id_2285</td>\n",
              "      <td>Bike</td>\n",
              "      <td>3</td>\n",
              "      <td>Personal</td>\n",
              "      <td>12</td>\n",
              "      <td>5</td>\n",
              "      <td>11:16:16 AM</td>\n",
              "      <td>12</td>\n",
              "      <td>5</td>\n",
              "      <td>11:23:21 AM</td>\n",
              "      <td>12</td>\n",
              "      <td>5</td>\n",
              "      <td>11:40:22 AM</td>\n",
              "      <td>12</td>\n",
              "      <td>5</td>\n",
              "      <td>11:44:09 AM</td>\n",
              "      <td>16</td>\n",
              "      <td>26.400000</td>\n",
              "      <td>0.0</td>\n",
              "      <td>-1.351453</td>\n",
              "      <td>36.899315</td>\n",
              "      <td>-1.295004</td>\n",
              "      <td>36.814358</td>\n",
              "      <td>Rider_Id_856</td>\n",
              "      <td>1993</td>\n",
              "    </tr>\n",
              "    <tr>\n",
              "      <th>2</th>\n",
              "      <td>Order_No_1899</td>\n",
              "      <td>User_Id_265</td>\n",
              "      <td>Bike</td>\n",
              "      <td>3</td>\n",
              "      <td>Business</td>\n",
              "      <td>30</td>\n",
              "      <td>2</td>\n",
              "      <td>12:39:25 PM</td>\n",
              "      <td>30</td>\n",
              "      <td>2</td>\n",
              "      <td>12:42:44 PM</td>\n",
              "      <td>30</td>\n",
              "      <td>2</td>\n",
              "      <td>12:49:34 PM</td>\n",
              "      <td>30</td>\n",
              "      <td>2</td>\n",
              "      <td>12:53:03 PM</td>\n",
              "      <td>3</td>\n",
              "      <td>23.258889</td>\n",
              "      <td>0.0</td>\n",
              "      <td>-1.308284</td>\n",
              "      <td>36.843419</td>\n",
              "      <td>-1.300921</td>\n",
              "      <td>36.828195</td>\n",
              "      <td>Rider_Id_155</td>\n",
              "      <td>455</td>\n",
              "    </tr>\n",
              "    <tr>\n",
              "      <th>3</th>\n",
              "      <td>Order_No_9336</td>\n",
              "      <td>User_Id_1402</td>\n",
              "      <td>Bike</td>\n",
              "      <td>3</td>\n",
              "      <td>Business</td>\n",
              "      <td>15</td>\n",
              "      <td>5</td>\n",
              "      <td>9:25:34 AM</td>\n",
              "      <td>15</td>\n",
              "      <td>5</td>\n",
              "      <td>9:26:05 AM</td>\n",
              "      <td>15</td>\n",
              "      <td>5</td>\n",
              "      <td>9:37:56 AM</td>\n",
              "      <td>15</td>\n",
              "      <td>5</td>\n",
              "      <td>9:43:06 AM</td>\n",
              "      <td>9</td>\n",
              "      <td>19.200000</td>\n",
              "      <td>0.0</td>\n",
              "      <td>-1.281301</td>\n",
              "      <td>36.832396</td>\n",
              "      <td>-1.257147</td>\n",
              "      <td>36.795063</td>\n",
              "      <td>Rider_Id_855</td>\n",
              "      <td>1341</td>\n",
              "    </tr>\n",
              "    <tr>\n",
              "      <th>4</th>\n",
              "      <td>Order_No_27883</td>\n",
              "      <td>User_Id_1737</td>\n",
              "      <td>Bike</td>\n",
              "      <td>1</td>\n",
              "      <td>Personal</td>\n",
              "      <td>13</td>\n",
              "      <td>1</td>\n",
              "      <td>9:55:18 AM</td>\n",
              "      <td>13</td>\n",
              "      <td>1</td>\n",
              "      <td>9:56:18 AM</td>\n",
              "      <td>13</td>\n",
              "      <td>1</td>\n",
              "      <td>10:03:53 AM</td>\n",
              "      <td>13</td>\n",
              "      <td>1</td>\n",
              "      <td>10:05:23 AM</td>\n",
              "      <td>9</td>\n",
              "      <td>15.400000</td>\n",
              "      <td>0.0</td>\n",
              "      <td>-1.266597</td>\n",
              "      <td>36.792118</td>\n",
              "      <td>-1.295041</td>\n",
              "      <td>36.809817</td>\n",
              "      <td>Rider_Id_770</td>\n",
              "      <td>1214</td>\n",
              "    </tr>\n",
              "  </tbody>\n",
              "</table>\n",
              "</div>"
            ],
            "text/plain": [
              "         order_no       user_id  ...      rider_id  time_from_pickup_to_arrival\n",
              "0   Order_No_4211   User_Id_633  ...  Rider_Id_432                          745\n",
              "1  Order_No_25375  User_Id_2285  ...  Rider_Id_856                         1993\n",
              "2   Order_No_1899   User_Id_265  ...  Rider_Id_155                          455\n",
              "3   Order_No_9336  User_Id_1402  ...  Rider_Id_855                         1341\n",
              "4  Order_No_27883  User_Id_1737  ...  Rider_Id_770                         1214\n",
              "\n",
              "[5 rows x 26 columns]"
            ]
          },
          "metadata": {
            "tags": []
          },
          "execution_count": 297
        }
      ]
    },
    {
      "cell_type": "code",
      "metadata": {
        "id": "Jfpb4Lp5LYtv",
        "colab_type": "code",
        "outputId": "ac4c4177-a7a4-471b-efce-9a6fa969ceb1",
        "colab": {
          "base_uri": "https://localhost:8080/",
          "height": 218
        }
      },
      "source": [
        "df1.head()"
      ],
      "execution_count": 298,
      "outputs": [
        {
          "output_type": "execute_result",
          "data": {
            "text/html": [
              "<div>\n",
              "<style scoped>\n",
              "    .dataframe tbody tr th:only-of-type {\n",
              "        vertical-align: middle;\n",
              "    }\n",
              "\n",
              "    .dataframe tbody tr th {\n",
              "        vertical-align: top;\n",
              "    }\n",
              "\n",
              "    .dataframe thead th {\n",
              "        text-align: right;\n",
              "    }\n",
              "</style>\n",
              "<table border=\"1\" class=\"dataframe\">\n",
              "  <thead>\n",
              "    <tr style=\"text-align: right;\">\n",
              "      <th></th>\n",
              "      <th>order_no</th>\n",
              "      <th>user_id</th>\n",
              "      <th>vehicle_type</th>\n",
              "      <th>platform_type</th>\n",
              "      <th>personal_or_business</th>\n",
              "      <th>placement_day_of_month</th>\n",
              "      <th>placement_weekday_mo_1</th>\n",
              "      <th>placement_time</th>\n",
              "      <th>confirmation_day_of_month</th>\n",
              "      <th>confirmation_weekday_mo_1</th>\n",
              "      <th>confirmation_time</th>\n",
              "      <th>arrival_at_pickup_day_of_month</th>\n",
              "      <th>arrival_at_pickup_weekday_mo_1</th>\n",
              "      <th>arrival_at_pickup_time</th>\n",
              "      <th>pickup_day_of_month</th>\n",
              "      <th>pickup_weekday_mo_1</th>\n",
              "      <th>pickup_time</th>\n",
              "      <th>distance_km</th>\n",
              "      <th>temperature</th>\n",
              "      <th>precipitation_in_millimeters</th>\n",
              "      <th>pickup_lat</th>\n",
              "      <th>pickup_long</th>\n",
              "      <th>destination_lat</th>\n",
              "      <th>destination_long</th>\n",
              "      <th>rider_id</th>\n",
              "    </tr>\n",
              "  </thead>\n",
              "  <tbody>\n",
              "    <tr>\n",
              "      <th>0</th>\n",
              "      <td>Order_No_19248</td>\n",
              "      <td>User_Id_3355</td>\n",
              "      <td>Bike</td>\n",
              "      <td>3</td>\n",
              "      <td>Business</td>\n",
              "      <td>27</td>\n",
              "      <td>3</td>\n",
              "      <td>4:44:10 PM</td>\n",
              "      <td>27</td>\n",
              "      <td>3</td>\n",
              "      <td>4:44:29 PM</td>\n",
              "      <td>27</td>\n",
              "      <td>3</td>\n",
              "      <td>4:53:04 PM</td>\n",
              "      <td>27</td>\n",
              "      <td>3</td>\n",
              "      <td>5:06:47 PM</td>\n",
              "      <td>8</td>\n",
              "      <td>23.258889</td>\n",
              "      <td>0.0</td>\n",
              "      <td>-1.333275</td>\n",
              "      <td>36.870815</td>\n",
              "      <td>-1.305249</td>\n",
              "      <td>36.822390</td>\n",
              "      <td>Rider_Id_192</td>\n",
              "    </tr>\n",
              "    <tr>\n",
              "      <th>1</th>\n",
              "      <td>Order_No_12736</td>\n",
              "      <td>User_Id_3647</td>\n",
              "      <td>Bike</td>\n",
              "      <td>3</td>\n",
              "      <td>Business</td>\n",
              "      <td>17</td>\n",
              "      <td>5</td>\n",
              "      <td>12:57:35 PM</td>\n",
              "      <td>17</td>\n",
              "      <td>5</td>\n",
              "      <td>12:59:17 PM</td>\n",
              "      <td>17</td>\n",
              "      <td>5</td>\n",
              "      <td>1:20:27 PM</td>\n",
              "      <td>17</td>\n",
              "      <td>5</td>\n",
              "      <td>1:25:37 PM</td>\n",
              "      <td>5</td>\n",
              "      <td>23.258889</td>\n",
              "      <td>0.0</td>\n",
              "      <td>-1.272639</td>\n",
              "      <td>36.794723</td>\n",
              "      <td>-1.277007</td>\n",
              "      <td>36.823907</td>\n",
              "      <td>Rider_Id_868</td>\n",
              "    </tr>\n",
              "    <tr>\n",
              "      <th>2</th>\n",
              "      <td>Order_No_768</td>\n",
              "      <td>User_Id_2154</td>\n",
              "      <td>Bike</td>\n",
              "      <td>3</td>\n",
              "      <td>Business</td>\n",
              "      <td>27</td>\n",
              "      <td>4</td>\n",
              "      <td>11:08:14 AM</td>\n",
              "      <td>27</td>\n",
              "      <td>4</td>\n",
              "      <td>11:25:05 AM</td>\n",
              "      <td>27</td>\n",
              "      <td>4</td>\n",
              "      <td>11:33:20 AM</td>\n",
              "      <td>27</td>\n",
              "      <td>4</td>\n",
              "      <td>11:57:54 AM</td>\n",
              "      <td>5</td>\n",
              "      <td>22.800000</td>\n",
              "      <td>0.0</td>\n",
              "      <td>-1.290894</td>\n",
              "      <td>36.822971</td>\n",
              "      <td>-1.276574</td>\n",
              "      <td>36.851365</td>\n",
              "      <td>Rider_Id_26</td>\n",
              "    </tr>\n",
              "    <tr>\n",
              "      <th>3</th>\n",
              "      <td>Order_No_15332</td>\n",
              "      <td>User_Id_2910</td>\n",
              "      <td>Bike</td>\n",
              "      <td>3</td>\n",
              "      <td>Business</td>\n",
              "      <td>17</td>\n",
              "      <td>1</td>\n",
              "      <td>1:51:35 PM</td>\n",
              "      <td>17</td>\n",
              "      <td>1</td>\n",
              "      <td>1:53:27 PM</td>\n",
              "      <td>17</td>\n",
              "      <td>1</td>\n",
              "      <td>2:02:41 PM</td>\n",
              "      <td>17</td>\n",
              "      <td>1</td>\n",
              "      <td>2:16:52 PM</td>\n",
              "      <td>5</td>\n",
              "      <td>24.500000</td>\n",
              "      <td>0.0</td>\n",
              "      <td>-1.290503</td>\n",
              "      <td>36.809646</td>\n",
              "      <td>-1.303382</td>\n",
              "      <td>36.790658</td>\n",
              "      <td>Rider_Id_685</td>\n",
              "    </tr>\n",
              "    <tr>\n",
              "      <th>4</th>\n",
              "      <td>Order_No_21373</td>\n",
              "      <td>User_Id_1205</td>\n",
              "      <td>Bike</td>\n",
              "      <td>3</td>\n",
              "      <td>Business</td>\n",
              "      <td>11</td>\n",
              "      <td>2</td>\n",
              "      <td>11:30:28 AM</td>\n",
              "      <td>11</td>\n",
              "      <td>2</td>\n",
              "      <td>11:34:45 AM</td>\n",
              "      <td>11</td>\n",
              "      <td>2</td>\n",
              "      <td>11:47:19 AM</td>\n",
              "      <td>11</td>\n",
              "      <td>2</td>\n",
              "      <td>11:56:04 AM</td>\n",
              "      <td>6</td>\n",
              "      <td>24.400000</td>\n",
              "      <td>0.0</td>\n",
              "      <td>-1.281081</td>\n",
              "      <td>36.814423</td>\n",
              "      <td>-1.266467</td>\n",
              "      <td>36.792161</td>\n",
              "      <td>Rider_Id_858</td>\n",
              "    </tr>\n",
              "  </tbody>\n",
              "</table>\n",
              "</div>"
            ],
            "text/plain": [
              "         order_no       user_id  ... destination_long      rider_id\n",
              "0  Order_No_19248  User_Id_3355  ...        36.822390  Rider_Id_192\n",
              "1  Order_No_12736  User_Id_3647  ...        36.823907  Rider_Id_868\n",
              "2    Order_No_768  User_Id_2154  ...        36.851365   Rider_Id_26\n",
              "3  Order_No_15332  User_Id_2910  ...        36.790658  Rider_Id_685\n",
              "4  Order_No_21373  User_Id_1205  ...        36.792161  Rider_Id_858\n",
              "\n",
              "[5 rows x 25 columns]"
            ]
          },
          "metadata": {
            "tags": []
          },
          "execution_count": 298
        }
      ]
    },
    {
      "cell_type": "code",
      "metadata": {
        "id": "yABQG16YJRae",
        "colab_type": "code",
        "outputId": "a567015e-32b1-491d-fd0b-dff74e63f6bf",
        "colab": {
          "base_uri": "https://localhost:8080/",
          "height": 508
        }
      },
      "source": [
        "df.isnull().sum()"
      ],
      "execution_count": 299,
      "outputs": [
        {
          "output_type": "execute_result",
          "data": {
            "text/plain": [
              "order_no                          0\n",
              "user_id                           0\n",
              "vehicle_type                      0\n",
              "platform_type                     0\n",
              "personal_or_business              0\n",
              "placement_day_of_month            0\n",
              "placement_weekday_mo_1            0\n",
              "placement_time                    0\n",
              "confirmation_day_of_month         0\n",
              "confirmation_weekday_mo_1         0\n",
              "confirmation_time                 0\n",
              "arrival_at_pickup_day_of_month    0\n",
              "arrival_at_pickup_weekday_mo_1    0\n",
              "arrival_at_pickup_time            0\n",
              "pickup_day_of_month               0\n",
              "pickup_weekday_mo_1               0\n",
              "pickup_time                       0\n",
              "distance_km                       0\n",
              "temperature                       0\n",
              "precipitation_in_millimeters      0\n",
              "pickup_lat                        0\n",
              "pickup_long                       0\n",
              "destination_lat                   0\n",
              "destination_long                  0\n",
              "rider_id                          0\n",
              "time_from_pickup_to_arrival       0\n",
              "dtype: int64"
            ]
          },
          "metadata": {
            "tags": []
          },
          "execution_count": 299
        }
      ]
    },
    {
      "cell_type": "code",
      "metadata": {
        "id": "UTsZ4Mp4LdRZ",
        "colab_type": "code",
        "outputId": "8e32ea98-5b0d-4d8a-e59e-e1618902c370",
        "colab": {
          "base_uri": "https://localhost:8080/",
          "height": 490
        }
      },
      "source": [
        "df1.isnull().sum()"
      ],
      "execution_count": 300,
      "outputs": [
        {
          "output_type": "execute_result",
          "data": {
            "text/plain": [
              "order_no                          0\n",
              "user_id                           0\n",
              "vehicle_type                      0\n",
              "platform_type                     0\n",
              "personal_or_business              0\n",
              "placement_day_of_month            0\n",
              "placement_weekday_mo_1            0\n",
              "placement_time                    0\n",
              "confirmation_day_of_month         0\n",
              "confirmation_weekday_mo_1         0\n",
              "confirmation_time                 0\n",
              "arrival_at_pickup_day_of_month    0\n",
              "arrival_at_pickup_weekday_mo_1    0\n",
              "arrival_at_pickup_time            0\n",
              "pickup_day_of_month               0\n",
              "pickup_weekday_mo_1               0\n",
              "pickup_time                       0\n",
              "distance_km                       0\n",
              "temperature                       0\n",
              "precipitation_in_millimeters      0\n",
              "pickup_lat                        0\n",
              "pickup_long                       0\n",
              "destination_lat                   0\n",
              "destination_long                  0\n",
              "rider_id                          0\n",
              "dtype: int64"
            ]
          },
          "metadata": {
            "tags": []
          },
          "execution_count": 300
        }
      ]
    },
    {
      "cell_type": "markdown",
      "metadata": {
        "id": "EUvPCNdpaMLP",
        "colab_type": "text"
      },
      "source": [
        "### Creating hour and minute variables"
      ]
    },
    {
      "cell_type": "code",
      "metadata": {
        "id": "nPmki_LJkud6",
        "colab_type": "code",
        "colab": {}
      },
      "source": [
        "time_cols = ['placement_time', 'confirmation_time', 'pickup_time']\n",
        "for col in time_cols:\n",
        "   df[col] = pd.to_datetime(df[col])\n",
        "   df[col.split('_')[0] + '_hour'] = df[col].dt.hour\n",
        "   df[col.split('_')[0] + '_minute'] = df[col].dt.minute\n",
        "   df[col] = [time.time() for time in df[col]]"
      ],
      "execution_count": 0,
      "outputs": []
    },
    {
      "cell_type": "code",
      "metadata": {
        "id": "4CuNnD1QL3gy",
        "colab_type": "code",
        "colab": {}
      },
      "source": [
        "time_cols = ['placement_time', 'confirmation_time', 'pickup_time']\n",
        "for col in time_cols:\n",
        "   df1[col] = pd.to_datetime(df1[col])\n",
        "   df1[col.split('_')[0] + '_hour'] = df1[col].dt.hour\n",
        "   df1[col.split('_')[0] + '_minute'] = df1[col].dt.minute\n",
        "   df1[col] = [time.time() for time in df1[col]]"
      ],
      "execution_count": 0,
      "outputs": []
    },
    {
      "cell_type": "code",
      "metadata": {
        "id": "AU87wmBoLtuL",
        "colab_type": "code",
        "colab": {}
      },
      "source": [
        ""
      ],
      "execution_count": 0,
      "outputs": []
    },
    {
      "cell_type": "code",
      "metadata": {
        "id": "di5yY0LI3tPe",
        "colab_type": "code",
        "colab": {}
      },
      "source": [
        "time_col = [\"arrival_at_pickup_time\"]\n",
        "for col in time_col:\n",
        "   df[col] = pd.to_datetime(df[col])\n",
        "   df[col + '_hour'] = df[col].dt.hour\n",
        "   df[col + '_minute'] = df[col].dt.minute\n",
        "   df[col] = [time.time() for time in df[col]]"
      ],
      "execution_count": 0,
      "outputs": []
    },
    {
      "cell_type": "code",
      "metadata": {
        "id": "Ne56iVPJMefP",
        "colab_type": "code",
        "colab": {}
      },
      "source": [
        "time_col = [\"arrival_at_pickup_time\",]\n",
        "for col in time_col:\n",
        "   df1[col] = pd.to_datetime(df1[col])\n",
        "   df1[col + '_hour'] = df1[col].dt.hour\n",
        "   df1[col + '_minute'] = df1[col].dt.minute\n",
        "   df1[col] = [time.time() for time in df1[col]]"
      ],
      "execution_count": 0,
      "outputs": []
    },
    {
      "cell_type": "code",
      "metadata": {
        "id": "ycvxuinl5LVQ",
        "colab_type": "code",
        "outputId": "0ed39bc9-7465-4459-d0cf-a8e09fde715a",
        "colab": {
          "base_uri": "https://localhost:8080/",
          "height": 218
        }
      },
      "source": [
        "df.head()"
      ],
      "execution_count": 305,
      "outputs": [
        {
          "output_type": "execute_result",
          "data": {
            "text/html": [
              "<div>\n",
              "<style scoped>\n",
              "    .dataframe tbody tr th:only-of-type {\n",
              "        vertical-align: middle;\n",
              "    }\n",
              "\n",
              "    .dataframe tbody tr th {\n",
              "        vertical-align: top;\n",
              "    }\n",
              "\n",
              "    .dataframe thead th {\n",
              "        text-align: right;\n",
              "    }\n",
              "</style>\n",
              "<table border=\"1\" class=\"dataframe\">\n",
              "  <thead>\n",
              "    <tr style=\"text-align: right;\">\n",
              "      <th></th>\n",
              "      <th>order_no</th>\n",
              "      <th>user_id</th>\n",
              "      <th>vehicle_type</th>\n",
              "      <th>platform_type</th>\n",
              "      <th>personal_or_business</th>\n",
              "      <th>placement_day_of_month</th>\n",
              "      <th>placement_weekday_mo_1</th>\n",
              "      <th>placement_time</th>\n",
              "      <th>confirmation_day_of_month</th>\n",
              "      <th>confirmation_weekday_mo_1</th>\n",
              "      <th>confirmation_time</th>\n",
              "      <th>arrival_at_pickup_day_of_month</th>\n",
              "      <th>arrival_at_pickup_weekday_mo_1</th>\n",
              "      <th>arrival_at_pickup_time</th>\n",
              "      <th>pickup_day_of_month</th>\n",
              "      <th>pickup_weekday_mo_1</th>\n",
              "      <th>pickup_time</th>\n",
              "      <th>distance_km</th>\n",
              "      <th>temperature</th>\n",
              "      <th>precipitation_in_millimeters</th>\n",
              "      <th>pickup_lat</th>\n",
              "      <th>pickup_long</th>\n",
              "      <th>destination_lat</th>\n",
              "      <th>destination_long</th>\n",
              "      <th>rider_id</th>\n",
              "      <th>time_from_pickup_to_arrival</th>\n",
              "      <th>placement_hour</th>\n",
              "      <th>placement_minute</th>\n",
              "      <th>confirmation_hour</th>\n",
              "      <th>confirmation_minute</th>\n",
              "      <th>pickup_hour</th>\n",
              "      <th>pickup_minute</th>\n",
              "      <th>arrival_at_pickup_time_hour</th>\n",
              "      <th>arrival_at_pickup_time_minute</th>\n",
              "    </tr>\n",
              "  </thead>\n",
              "  <tbody>\n",
              "    <tr>\n",
              "      <th>0</th>\n",
              "      <td>Order_No_4211</td>\n",
              "      <td>User_Id_633</td>\n",
              "      <td>Bike</td>\n",
              "      <td>3</td>\n",
              "      <td>Business</td>\n",
              "      <td>9</td>\n",
              "      <td>5</td>\n",
              "      <td>09:35:46</td>\n",
              "      <td>9</td>\n",
              "      <td>5</td>\n",
              "      <td>09:40:10</td>\n",
              "      <td>9</td>\n",
              "      <td>5</td>\n",
              "      <td>10:04:47</td>\n",
              "      <td>9</td>\n",
              "      <td>5</td>\n",
              "      <td>10:27:30</td>\n",
              "      <td>4</td>\n",
              "      <td>20.400000</td>\n",
              "      <td>0.0</td>\n",
              "      <td>-1.317755</td>\n",
              "      <td>36.830370</td>\n",
              "      <td>-1.300406</td>\n",
              "      <td>36.829741</td>\n",
              "      <td>Rider_Id_432</td>\n",
              "      <td>745</td>\n",
              "      <td>9</td>\n",
              "      <td>35</td>\n",
              "      <td>9</td>\n",
              "      <td>40</td>\n",
              "      <td>10</td>\n",
              "      <td>27</td>\n",
              "      <td>10</td>\n",
              "      <td>4</td>\n",
              "    </tr>\n",
              "    <tr>\n",
              "      <th>1</th>\n",
              "      <td>Order_No_25375</td>\n",
              "      <td>User_Id_2285</td>\n",
              "      <td>Bike</td>\n",
              "      <td>3</td>\n",
              "      <td>Personal</td>\n",
              "      <td>12</td>\n",
              "      <td>5</td>\n",
              "      <td>11:16:16</td>\n",
              "      <td>12</td>\n",
              "      <td>5</td>\n",
              "      <td>11:23:21</td>\n",
              "      <td>12</td>\n",
              "      <td>5</td>\n",
              "      <td>11:40:22</td>\n",
              "      <td>12</td>\n",
              "      <td>5</td>\n",
              "      <td>11:44:09</td>\n",
              "      <td>16</td>\n",
              "      <td>26.400000</td>\n",
              "      <td>0.0</td>\n",
              "      <td>-1.351453</td>\n",
              "      <td>36.899315</td>\n",
              "      <td>-1.295004</td>\n",
              "      <td>36.814358</td>\n",
              "      <td>Rider_Id_856</td>\n",
              "      <td>1993</td>\n",
              "      <td>11</td>\n",
              "      <td>16</td>\n",
              "      <td>11</td>\n",
              "      <td>23</td>\n",
              "      <td>11</td>\n",
              "      <td>44</td>\n",
              "      <td>11</td>\n",
              "      <td>40</td>\n",
              "    </tr>\n",
              "    <tr>\n",
              "      <th>2</th>\n",
              "      <td>Order_No_1899</td>\n",
              "      <td>User_Id_265</td>\n",
              "      <td>Bike</td>\n",
              "      <td>3</td>\n",
              "      <td>Business</td>\n",
              "      <td>30</td>\n",
              "      <td>2</td>\n",
              "      <td>12:39:25</td>\n",
              "      <td>30</td>\n",
              "      <td>2</td>\n",
              "      <td>12:42:44</td>\n",
              "      <td>30</td>\n",
              "      <td>2</td>\n",
              "      <td>12:49:34</td>\n",
              "      <td>30</td>\n",
              "      <td>2</td>\n",
              "      <td>12:53:03</td>\n",
              "      <td>3</td>\n",
              "      <td>23.258889</td>\n",
              "      <td>0.0</td>\n",
              "      <td>-1.308284</td>\n",
              "      <td>36.843419</td>\n",
              "      <td>-1.300921</td>\n",
              "      <td>36.828195</td>\n",
              "      <td>Rider_Id_155</td>\n",
              "      <td>455</td>\n",
              "      <td>12</td>\n",
              "      <td>39</td>\n",
              "      <td>12</td>\n",
              "      <td>42</td>\n",
              "      <td>12</td>\n",
              "      <td>53</td>\n",
              "      <td>12</td>\n",
              "      <td>49</td>\n",
              "    </tr>\n",
              "    <tr>\n",
              "      <th>3</th>\n",
              "      <td>Order_No_9336</td>\n",
              "      <td>User_Id_1402</td>\n",
              "      <td>Bike</td>\n",
              "      <td>3</td>\n",
              "      <td>Business</td>\n",
              "      <td>15</td>\n",
              "      <td>5</td>\n",
              "      <td>09:25:34</td>\n",
              "      <td>15</td>\n",
              "      <td>5</td>\n",
              "      <td>09:26:05</td>\n",
              "      <td>15</td>\n",
              "      <td>5</td>\n",
              "      <td>09:37:56</td>\n",
              "      <td>15</td>\n",
              "      <td>5</td>\n",
              "      <td>09:43:06</td>\n",
              "      <td>9</td>\n",
              "      <td>19.200000</td>\n",
              "      <td>0.0</td>\n",
              "      <td>-1.281301</td>\n",
              "      <td>36.832396</td>\n",
              "      <td>-1.257147</td>\n",
              "      <td>36.795063</td>\n",
              "      <td>Rider_Id_855</td>\n",
              "      <td>1341</td>\n",
              "      <td>9</td>\n",
              "      <td>25</td>\n",
              "      <td>9</td>\n",
              "      <td>26</td>\n",
              "      <td>9</td>\n",
              "      <td>43</td>\n",
              "      <td>9</td>\n",
              "      <td>37</td>\n",
              "    </tr>\n",
              "    <tr>\n",
              "      <th>4</th>\n",
              "      <td>Order_No_27883</td>\n",
              "      <td>User_Id_1737</td>\n",
              "      <td>Bike</td>\n",
              "      <td>1</td>\n",
              "      <td>Personal</td>\n",
              "      <td>13</td>\n",
              "      <td>1</td>\n",
              "      <td>09:55:18</td>\n",
              "      <td>13</td>\n",
              "      <td>1</td>\n",
              "      <td>09:56:18</td>\n",
              "      <td>13</td>\n",
              "      <td>1</td>\n",
              "      <td>10:03:53</td>\n",
              "      <td>13</td>\n",
              "      <td>1</td>\n",
              "      <td>10:05:23</td>\n",
              "      <td>9</td>\n",
              "      <td>15.400000</td>\n",
              "      <td>0.0</td>\n",
              "      <td>-1.266597</td>\n",
              "      <td>36.792118</td>\n",
              "      <td>-1.295041</td>\n",
              "      <td>36.809817</td>\n",
              "      <td>Rider_Id_770</td>\n",
              "      <td>1214</td>\n",
              "      <td>9</td>\n",
              "      <td>55</td>\n",
              "      <td>9</td>\n",
              "      <td>56</td>\n",
              "      <td>10</td>\n",
              "      <td>5</td>\n",
              "      <td>10</td>\n",
              "      <td>3</td>\n",
              "    </tr>\n",
              "  </tbody>\n",
              "</table>\n",
              "</div>"
            ],
            "text/plain": [
              "         order_no  ... arrival_at_pickup_time_minute\n",
              "0   Order_No_4211  ...                             4\n",
              "1  Order_No_25375  ...                            40\n",
              "2   Order_No_1899  ...                            49\n",
              "3   Order_No_9336  ...                            37\n",
              "4  Order_No_27883  ...                             3\n",
              "\n",
              "[5 rows x 34 columns]"
            ]
          },
          "metadata": {
            "tags": []
          },
          "execution_count": 305
        }
      ]
    },
    {
      "cell_type": "markdown",
      "metadata": {
        "id": "OCx3JxgvaSq5",
        "colab_type": "text"
      },
      "source": [
        "### Creating peak and offpeak variables"
      ]
    },
    {
      "cell_type": "code",
      "metadata": {
        "id": "In7bNKvJ4pVd",
        "colab_type": "code",
        "outputId": "41c37e9a-7580-44a1-dbba-3380e23ff199",
        "colab": {
          "base_uri": "https://localhost:8080/",
          "height": 272
        }
      },
      "source": [
        "df.columns"
      ],
      "execution_count": 306,
      "outputs": [
        {
          "output_type": "execute_result",
          "data": {
            "text/plain": [
              "Index(['order_no', 'user_id', 'vehicle_type', 'platform_type',\n",
              "       'personal_or_business', 'placement_day_of_month',\n",
              "       'placement_weekday_mo_1', 'placement_time', 'confirmation_day_of_month',\n",
              "       'confirmation_weekday_mo_1', 'confirmation_time',\n",
              "       'arrival_at_pickup_day_of_month', 'arrival_at_pickup_weekday_mo_1',\n",
              "       'arrival_at_pickup_time', 'pickup_day_of_month', 'pickup_weekday_mo_1',\n",
              "       'pickup_time', 'distance_km', 'temperature',\n",
              "       'precipitation_in_millimeters', 'pickup_lat', 'pickup_long',\n",
              "       'destination_lat', 'destination_long', 'rider_id',\n",
              "       'time_from_pickup_to_arrival', 'placement_hour', 'placement_minute',\n",
              "       'confirmation_hour', 'confirmation_minute', 'pickup_hour',\n",
              "       'pickup_minute', 'arrival_at_pickup_time_hour',\n",
              "       'arrival_at_pickup_time_minute'],\n",
              "      dtype='object')"
            ]
          },
          "metadata": {
            "tags": []
          },
          "execution_count": 306
        }
      ]
    },
    {
      "cell_type": "code",
      "metadata": {
        "id": "60z5-w3jRhsd",
        "colab_type": "code",
        "colab": {}
      },
      "source": [
        "#7-5\n",
        "hour_cols = ['placement_hour',\t'confirmation_hour',\t'pickup_hour',\"arrival_at_pickup_time_hour\"]\n",
        "\n",
        "for col in hour_cols:\n",
        "  df[col.split('_')[0] + '_ap'] = df[col].apply(lambda x: 1 if( x >= 7 & x <= 17) else 0)\n",
        "  "
      ],
      "execution_count": 0,
      "outputs": []
    },
    {
      "cell_type": "code",
      "metadata": {
        "id": "Au6dL1J-NCFm",
        "colab_type": "code",
        "colab": {}
      },
      "source": [
        "#7-5\n",
        "hour_cols = ['placement_hour',\t'confirmation_hour',\t'pickup_hour',\"arrival_at_pickup_time_hour\"]\n",
        "\n",
        "for col in hour_cols:\n",
        "  df1[col.split('_')[0] + '_ap'] = df1[col].apply(lambda x: 1 if( x >= 7 & x <= 17) else 0)\n",
        "  "
      ],
      "execution_count": 0,
      "outputs": []
    },
    {
      "cell_type": "markdown",
      "metadata": {
        "id": "As0NYm_0aZu2",
        "colab_type": "text"
      },
      "source": [
        "### Creating new cluster variables"
      ]
    },
    {
      "cell_type": "code",
      "metadata": {
        "id": "sFa177PVRzBo",
        "colab_type": "code",
        "colab": {}
      },
      "source": [
        "from sklearn.cluster import KMeans\n",
        "kmeans = KMeans(n_clusters = 15, init ='k-means++')\n",
        "kmeans.fit(df[['pickup_lat', 'pickup_long']]) # Compute k-means clustering.\n",
        "df['pickup_cluster_label'] = kmeans.fit_predict(df[['pickup_lat', 'pickup_long']])\n",
        "centers1 = kmeans.cluster_centers_ # Coordinates of cluster centers.\n",
        "labels1 = kmeans.predict(df[['pickup_lat', 'pickup_long']]) # Labels of each point\n",
        "df['pickup_cluster_label'] = df['pickup_cluster_label'].astype('category')\n",
        "kmeans = KMeans(n_clusters = 15, init ='k-means++')\n",
        "kmeans.fit(df[['destination_lat', 'destination_long']]) # Compute k-means clustering.\n",
        "df['destination_cluster_label'] = kmeans.fit_predict(df[['destination_lat', 'destination_long']])\n",
        "centers = kmeans.cluster_centers_ # Coordinates of cluster centers.\n",
        "labels = kmeans.predict(df[['destination_lat', 'destination_long']]) # Labels of each point\n",
        "df['destination_cluster_label'] =df['destination_cluster_label'].astype('category')\n"
      ],
      "execution_count": 0,
      "outputs": []
    },
    {
      "cell_type": "code",
      "metadata": {
        "id": "HFZqA7EyNTy3",
        "colab_type": "code",
        "colab": {}
      },
      "source": [
        "from sklearn.cluster import KMeans\n",
        "kmeans = KMeans(n_clusters = 15, init ='k-means++')\n",
        "kmeans.fit(df1[['pickup_lat', 'pickup_long']]) # Compute k-means clustering.\n",
        "df1['pickup_cluster_label'] = kmeans.fit_predict(df1[['pickup_lat', 'pickup_long']])\n",
        "centers1 = kmeans.cluster_centers_ # Coordinates of cluster centers.\n",
        "labels1 = kmeans.predict(df1[['pickup_lat', 'pickup_long']]) # Labels of each point\n",
        "df1['pickup_cluster_label'] = df1['pickup_cluster_label'].astype('category')\n",
        "kmeans = KMeans(n_clusters = 15, init ='k-means++')\n",
        "kmeans.fit(df1[['destination_lat', 'destination_long']]) # Compute k-means clustering.\n",
        "df1['destination_cluster_label'] = kmeans.fit_predict(df1[['destination_lat', 'destination_long']])\n",
        "centers = kmeans.cluster_centers_ # Coordinates of cluster centers.\n",
        "labels = kmeans.predict(df1[['destination_lat', 'destination_long']]) # Labels of each point\n",
        "df1['destination_cluster_label'] =df1['destination_cluster_label'].astype('category')"
      ],
      "execution_count": 0,
      "outputs": []
    },
    {
      "cell_type": "code",
      "metadata": {
        "id": "KT0K9GIARy-e",
        "colab_type": "code",
        "outputId": "2418dbed-c679-4540-b63e-284b656b3b65",
        "colab": {
          "base_uri": "https://localhost:8080/",
          "height": 218
        }
      },
      "source": [
        "df.head()"
      ],
      "execution_count": 311,
      "outputs": [
        {
          "output_type": "execute_result",
          "data": {
            "text/html": [
              "<div>\n",
              "<style scoped>\n",
              "    .dataframe tbody tr th:only-of-type {\n",
              "        vertical-align: middle;\n",
              "    }\n",
              "\n",
              "    .dataframe tbody tr th {\n",
              "        vertical-align: top;\n",
              "    }\n",
              "\n",
              "    .dataframe thead th {\n",
              "        text-align: right;\n",
              "    }\n",
              "</style>\n",
              "<table border=\"1\" class=\"dataframe\">\n",
              "  <thead>\n",
              "    <tr style=\"text-align: right;\">\n",
              "      <th></th>\n",
              "      <th>order_no</th>\n",
              "      <th>user_id</th>\n",
              "      <th>vehicle_type</th>\n",
              "      <th>platform_type</th>\n",
              "      <th>personal_or_business</th>\n",
              "      <th>placement_day_of_month</th>\n",
              "      <th>placement_weekday_mo_1</th>\n",
              "      <th>placement_time</th>\n",
              "      <th>confirmation_day_of_month</th>\n",
              "      <th>confirmation_weekday_mo_1</th>\n",
              "      <th>confirmation_time</th>\n",
              "      <th>arrival_at_pickup_day_of_month</th>\n",
              "      <th>arrival_at_pickup_weekday_mo_1</th>\n",
              "      <th>arrival_at_pickup_time</th>\n",
              "      <th>pickup_day_of_month</th>\n",
              "      <th>pickup_weekday_mo_1</th>\n",
              "      <th>pickup_time</th>\n",
              "      <th>distance_km</th>\n",
              "      <th>temperature</th>\n",
              "      <th>precipitation_in_millimeters</th>\n",
              "      <th>pickup_lat</th>\n",
              "      <th>pickup_long</th>\n",
              "      <th>destination_lat</th>\n",
              "      <th>destination_long</th>\n",
              "      <th>rider_id</th>\n",
              "      <th>time_from_pickup_to_arrival</th>\n",
              "      <th>placement_hour</th>\n",
              "      <th>placement_minute</th>\n",
              "      <th>confirmation_hour</th>\n",
              "      <th>confirmation_minute</th>\n",
              "      <th>pickup_hour</th>\n",
              "      <th>pickup_minute</th>\n",
              "      <th>arrival_at_pickup_time_hour</th>\n",
              "      <th>arrival_at_pickup_time_minute</th>\n",
              "      <th>placement_ap</th>\n",
              "      <th>confirmation_ap</th>\n",
              "      <th>pickup_ap</th>\n",
              "      <th>arrival_ap</th>\n",
              "      <th>pickup_cluster_label</th>\n",
              "      <th>destination_cluster_label</th>\n",
              "    </tr>\n",
              "  </thead>\n",
              "  <tbody>\n",
              "    <tr>\n",
              "      <th>0</th>\n",
              "      <td>Order_No_4211</td>\n",
              "      <td>User_Id_633</td>\n",
              "      <td>Bike</td>\n",
              "      <td>3</td>\n",
              "      <td>Business</td>\n",
              "      <td>9</td>\n",
              "      <td>5</td>\n",
              "      <td>09:35:46</td>\n",
              "      <td>9</td>\n",
              "      <td>5</td>\n",
              "      <td>09:40:10</td>\n",
              "      <td>9</td>\n",
              "      <td>5</td>\n",
              "      <td>10:04:47</td>\n",
              "      <td>9</td>\n",
              "      <td>5</td>\n",
              "      <td>10:27:30</td>\n",
              "      <td>4</td>\n",
              "      <td>20.400000</td>\n",
              "      <td>0.0</td>\n",
              "      <td>-1.317755</td>\n",
              "      <td>36.830370</td>\n",
              "      <td>-1.300406</td>\n",
              "      <td>36.829741</td>\n",
              "      <td>Rider_Id_432</td>\n",
              "      <td>745</td>\n",
              "      <td>9</td>\n",
              "      <td>35</td>\n",
              "      <td>9</td>\n",
              "      <td>40</td>\n",
              "      <td>10</td>\n",
              "      <td>27</td>\n",
              "      <td>10</td>\n",
              "      <td>4</td>\n",
              "      <td>1</td>\n",
              "      <td>1</td>\n",
              "      <td>1</td>\n",
              "      <td>1</td>\n",
              "      <td>14</td>\n",
              "      <td>6</td>\n",
              "    </tr>\n",
              "    <tr>\n",
              "      <th>1</th>\n",
              "      <td>Order_No_25375</td>\n",
              "      <td>User_Id_2285</td>\n",
              "      <td>Bike</td>\n",
              "      <td>3</td>\n",
              "      <td>Personal</td>\n",
              "      <td>12</td>\n",
              "      <td>5</td>\n",
              "      <td>11:16:16</td>\n",
              "      <td>12</td>\n",
              "      <td>5</td>\n",
              "      <td>11:23:21</td>\n",
              "      <td>12</td>\n",
              "      <td>5</td>\n",
              "      <td>11:40:22</td>\n",
              "      <td>12</td>\n",
              "      <td>5</td>\n",
              "      <td>11:44:09</td>\n",
              "      <td>16</td>\n",
              "      <td>26.400000</td>\n",
              "      <td>0.0</td>\n",
              "      <td>-1.351453</td>\n",
              "      <td>36.899315</td>\n",
              "      <td>-1.295004</td>\n",
              "      <td>36.814358</td>\n",
              "      <td>Rider_Id_856</td>\n",
              "      <td>1993</td>\n",
              "      <td>11</td>\n",
              "      <td>16</td>\n",
              "      <td>11</td>\n",
              "      <td>23</td>\n",
              "      <td>11</td>\n",
              "      <td>44</td>\n",
              "      <td>11</td>\n",
              "      <td>40</td>\n",
              "      <td>1</td>\n",
              "      <td>1</td>\n",
              "      <td>1</td>\n",
              "      <td>1</td>\n",
              "      <td>11</td>\n",
              "      <td>6</td>\n",
              "    </tr>\n",
              "    <tr>\n",
              "      <th>2</th>\n",
              "      <td>Order_No_1899</td>\n",
              "      <td>User_Id_265</td>\n",
              "      <td>Bike</td>\n",
              "      <td>3</td>\n",
              "      <td>Business</td>\n",
              "      <td>30</td>\n",
              "      <td>2</td>\n",
              "      <td>12:39:25</td>\n",
              "      <td>30</td>\n",
              "      <td>2</td>\n",
              "      <td>12:42:44</td>\n",
              "      <td>30</td>\n",
              "      <td>2</td>\n",
              "      <td>12:49:34</td>\n",
              "      <td>30</td>\n",
              "      <td>2</td>\n",
              "      <td>12:53:03</td>\n",
              "      <td>3</td>\n",
              "      <td>23.258889</td>\n",
              "      <td>0.0</td>\n",
              "      <td>-1.308284</td>\n",
              "      <td>36.843419</td>\n",
              "      <td>-1.300921</td>\n",
              "      <td>36.828195</td>\n",
              "      <td>Rider_Id_155</td>\n",
              "      <td>455</td>\n",
              "      <td>12</td>\n",
              "      <td>39</td>\n",
              "      <td>12</td>\n",
              "      <td>42</td>\n",
              "      <td>12</td>\n",
              "      <td>53</td>\n",
              "      <td>12</td>\n",
              "      <td>49</td>\n",
              "      <td>1</td>\n",
              "      <td>1</td>\n",
              "      <td>1</td>\n",
              "      <td>1</td>\n",
              "      <td>14</td>\n",
              "      <td>6</td>\n",
              "    </tr>\n",
              "    <tr>\n",
              "      <th>3</th>\n",
              "      <td>Order_No_9336</td>\n",
              "      <td>User_Id_1402</td>\n",
              "      <td>Bike</td>\n",
              "      <td>3</td>\n",
              "      <td>Business</td>\n",
              "      <td>15</td>\n",
              "      <td>5</td>\n",
              "      <td>09:25:34</td>\n",
              "      <td>15</td>\n",
              "      <td>5</td>\n",
              "      <td>09:26:05</td>\n",
              "      <td>15</td>\n",
              "      <td>5</td>\n",
              "      <td>09:37:56</td>\n",
              "      <td>15</td>\n",
              "      <td>5</td>\n",
              "      <td>09:43:06</td>\n",
              "      <td>9</td>\n",
              "      <td>19.200000</td>\n",
              "      <td>0.0</td>\n",
              "      <td>-1.281301</td>\n",
              "      <td>36.832396</td>\n",
              "      <td>-1.257147</td>\n",
              "      <td>36.795063</td>\n",
              "      <td>Rider_Id_855</td>\n",
              "      <td>1341</td>\n",
              "      <td>9</td>\n",
              "      <td>25</td>\n",
              "      <td>9</td>\n",
              "      <td>26</td>\n",
              "      <td>9</td>\n",
              "      <td>43</td>\n",
              "      <td>9</td>\n",
              "      <td>37</td>\n",
              "      <td>1</td>\n",
              "      <td>1</td>\n",
              "      <td>1</td>\n",
              "      <td>1</td>\n",
              "      <td>2</td>\n",
              "      <td>10</td>\n",
              "    </tr>\n",
              "    <tr>\n",
              "      <th>4</th>\n",
              "      <td>Order_No_27883</td>\n",
              "      <td>User_Id_1737</td>\n",
              "      <td>Bike</td>\n",
              "      <td>1</td>\n",
              "      <td>Personal</td>\n",
              "      <td>13</td>\n",
              "      <td>1</td>\n",
              "      <td>09:55:18</td>\n",
              "      <td>13</td>\n",
              "      <td>1</td>\n",
              "      <td>09:56:18</td>\n",
              "      <td>13</td>\n",
              "      <td>1</td>\n",
              "      <td>10:03:53</td>\n",
              "      <td>13</td>\n",
              "      <td>1</td>\n",
              "      <td>10:05:23</td>\n",
              "      <td>9</td>\n",
              "      <td>15.400000</td>\n",
              "      <td>0.0</td>\n",
              "      <td>-1.266597</td>\n",
              "      <td>36.792118</td>\n",
              "      <td>-1.295041</td>\n",
              "      <td>36.809817</td>\n",
              "      <td>Rider_Id_770</td>\n",
              "      <td>1214</td>\n",
              "      <td>9</td>\n",
              "      <td>55</td>\n",
              "      <td>9</td>\n",
              "      <td>56</td>\n",
              "      <td>10</td>\n",
              "      <td>5</td>\n",
              "      <td>10</td>\n",
              "      <td>3</td>\n",
              "      <td>1</td>\n",
              "      <td>1</td>\n",
              "      <td>1</td>\n",
              "      <td>1</td>\n",
              "      <td>9</td>\n",
              "      <td>6</td>\n",
              "    </tr>\n",
              "  </tbody>\n",
              "</table>\n",
              "</div>"
            ],
            "text/plain": [
              "         order_no       user_id  ... pickup_cluster_label  destination_cluster_label\n",
              "0   Order_No_4211   User_Id_633  ...                   14                          6\n",
              "1  Order_No_25375  User_Id_2285  ...                   11                          6\n",
              "2   Order_No_1899   User_Id_265  ...                   14                          6\n",
              "3   Order_No_9336  User_Id_1402  ...                    2                         10\n",
              "4  Order_No_27883  User_Id_1737  ...                    9                          6\n",
              "\n",
              "[5 rows x 40 columns]"
            ]
          },
          "metadata": {
            "tags": []
          },
          "execution_count": 311
        }
      ]
    },
    {
      "cell_type": "markdown",
      "metadata": {
        "id": "Wrq5ywAJ0Qoz",
        "colab_type": "text"
      },
      "source": [
        "# Cyclic of time"
      ]
    },
    {
      "cell_type": "code",
      "metadata": {
        "id": "XTxEiFZA_dNS",
        "colab_type": "code",
        "colab": {}
      },
      "source": [
        "# x = df.drop(['user_id','vehicle_type', 'confirmation_time', 'arrival_at_pickup_time','pickup_time','placement_time','arrival_at_destination_day_of_month', 'arrival_at_destination_weekday_mo_1', 'arrival_at_destination_time','rider_id'],axis=1)\n",
        "# X = pd.get_dummies(x)\n",
        "# y = df['time_from_pickup_to_arrival']\n",
        "\n",
        "# train,test,y_train,y_test = train_test_split(X,y,random_state =0 ,test_size = 0.2)"
      ],
      "execution_count": 0,
      "outputs": []
    },
    {
      "cell_type": "code",
      "metadata": {
        "id": "att450zXOps6",
        "colab_type": "code",
        "colab": {}
      },
      "source": [
        "\n",
        "train = df.copy()\n",
        "test = df1.copy()"
      ],
      "execution_count": 0,
      "outputs": []
    },
    {
      "cell_type": "code",
      "metadata": {
        "id": "PCmhANi0OzGU",
        "colab_type": "code",
        "outputId": "e27e8ea1-9ff6-4ec7-f0b2-89cb79488c08",
        "colab": {
          "base_uri": "https://localhost:8080/",
          "height": 218
        }
      },
      "source": [
        "test.head()"
      ],
      "execution_count": 314,
      "outputs": [
        {
          "output_type": "execute_result",
          "data": {
            "text/html": [
              "<div>\n",
              "<style scoped>\n",
              "    .dataframe tbody tr th:only-of-type {\n",
              "        vertical-align: middle;\n",
              "    }\n",
              "\n",
              "    .dataframe tbody tr th {\n",
              "        vertical-align: top;\n",
              "    }\n",
              "\n",
              "    .dataframe thead th {\n",
              "        text-align: right;\n",
              "    }\n",
              "</style>\n",
              "<table border=\"1\" class=\"dataframe\">\n",
              "  <thead>\n",
              "    <tr style=\"text-align: right;\">\n",
              "      <th></th>\n",
              "      <th>order_no</th>\n",
              "      <th>user_id</th>\n",
              "      <th>vehicle_type</th>\n",
              "      <th>platform_type</th>\n",
              "      <th>personal_or_business</th>\n",
              "      <th>placement_day_of_month</th>\n",
              "      <th>placement_weekday_mo_1</th>\n",
              "      <th>placement_time</th>\n",
              "      <th>confirmation_day_of_month</th>\n",
              "      <th>confirmation_weekday_mo_1</th>\n",
              "      <th>confirmation_time</th>\n",
              "      <th>arrival_at_pickup_day_of_month</th>\n",
              "      <th>arrival_at_pickup_weekday_mo_1</th>\n",
              "      <th>arrival_at_pickup_time</th>\n",
              "      <th>pickup_day_of_month</th>\n",
              "      <th>pickup_weekday_mo_1</th>\n",
              "      <th>pickup_time</th>\n",
              "      <th>distance_km</th>\n",
              "      <th>temperature</th>\n",
              "      <th>precipitation_in_millimeters</th>\n",
              "      <th>pickup_lat</th>\n",
              "      <th>pickup_long</th>\n",
              "      <th>destination_lat</th>\n",
              "      <th>destination_long</th>\n",
              "      <th>rider_id</th>\n",
              "      <th>placement_hour</th>\n",
              "      <th>placement_minute</th>\n",
              "      <th>confirmation_hour</th>\n",
              "      <th>confirmation_minute</th>\n",
              "      <th>pickup_hour</th>\n",
              "      <th>pickup_minute</th>\n",
              "      <th>arrival_at_pickup_time_hour</th>\n",
              "      <th>arrival_at_pickup_time_minute</th>\n",
              "      <th>placement_ap</th>\n",
              "      <th>confirmation_ap</th>\n",
              "      <th>pickup_ap</th>\n",
              "      <th>arrival_ap</th>\n",
              "      <th>pickup_cluster_label</th>\n",
              "      <th>destination_cluster_label</th>\n",
              "    </tr>\n",
              "  </thead>\n",
              "  <tbody>\n",
              "    <tr>\n",
              "      <th>0</th>\n",
              "      <td>Order_No_19248</td>\n",
              "      <td>User_Id_3355</td>\n",
              "      <td>Bike</td>\n",
              "      <td>3</td>\n",
              "      <td>Business</td>\n",
              "      <td>27</td>\n",
              "      <td>3</td>\n",
              "      <td>16:44:10</td>\n",
              "      <td>27</td>\n",
              "      <td>3</td>\n",
              "      <td>16:44:29</td>\n",
              "      <td>27</td>\n",
              "      <td>3</td>\n",
              "      <td>16:53:04</td>\n",
              "      <td>27</td>\n",
              "      <td>3</td>\n",
              "      <td>17:06:47</td>\n",
              "      <td>8</td>\n",
              "      <td>23.258889</td>\n",
              "      <td>0.0</td>\n",
              "      <td>-1.333275</td>\n",
              "      <td>36.870815</td>\n",
              "      <td>-1.305249</td>\n",
              "      <td>36.822390</td>\n",
              "      <td>Rider_Id_192</td>\n",
              "      <td>16</td>\n",
              "      <td>44</td>\n",
              "      <td>16</td>\n",
              "      <td>44</td>\n",
              "      <td>17</td>\n",
              "      <td>6</td>\n",
              "      <td>16</td>\n",
              "      <td>53</td>\n",
              "      <td>1</td>\n",
              "      <td>1</td>\n",
              "      <td>1</td>\n",
              "      <td>1</td>\n",
              "      <td>12</td>\n",
              "      <td>1</td>\n",
              "    </tr>\n",
              "    <tr>\n",
              "      <th>1</th>\n",
              "      <td>Order_No_12736</td>\n",
              "      <td>User_Id_3647</td>\n",
              "      <td>Bike</td>\n",
              "      <td>3</td>\n",
              "      <td>Business</td>\n",
              "      <td>17</td>\n",
              "      <td>5</td>\n",
              "      <td>12:57:35</td>\n",
              "      <td>17</td>\n",
              "      <td>5</td>\n",
              "      <td>12:59:17</td>\n",
              "      <td>17</td>\n",
              "      <td>5</td>\n",
              "      <td>13:20:27</td>\n",
              "      <td>17</td>\n",
              "      <td>5</td>\n",
              "      <td>13:25:37</td>\n",
              "      <td>5</td>\n",
              "      <td>23.258889</td>\n",
              "      <td>0.0</td>\n",
              "      <td>-1.272639</td>\n",
              "      <td>36.794723</td>\n",
              "      <td>-1.277007</td>\n",
              "      <td>36.823907</td>\n",
              "      <td>Rider_Id_868</td>\n",
              "      <td>12</td>\n",
              "      <td>57</td>\n",
              "      <td>12</td>\n",
              "      <td>59</td>\n",
              "      <td>13</td>\n",
              "      <td>25</td>\n",
              "      <td>13</td>\n",
              "      <td>20</td>\n",
              "      <td>1</td>\n",
              "      <td>1</td>\n",
              "      <td>1</td>\n",
              "      <td>1</td>\n",
              "      <td>9</td>\n",
              "      <td>9</td>\n",
              "    </tr>\n",
              "    <tr>\n",
              "      <th>2</th>\n",
              "      <td>Order_No_768</td>\n",
              "      <td>User_Id_2154</td>\n",
              "      <td>Bike</td>\n",
              "      <td>3</td>\n",
              "      <td>Business</td>\n",
              "      <td>27</td>\n",
              "      <td>4</td>\n",
              "      <td>11:08:14</td>\n",
              "      <td>27</td>\n",
              "      <td>4</td>\n",
              "      <td>11:25:05</td>\n",
              "      <td>27</td>\n",
              "      <td>4</td>\n",
              "      <td>11:33:20</td>\n",
              "      <td>27</td>\n",
              "      <td>4</td>\n",
              "      <td>11:57:54</td>\n",
              "      <td>5</td>\n",
              "      <td>22.800000</td>\n",
              "      <td>0.0</td>\n",
              "      <td>-1.290894</td>\n",
              "      <td>36.822971</td>\n",
              "      <td>-1.276574</td>\n",
              "      <td>36.851365</td>\n",
              "      <td>Rider_Id_26</td>\n",
              "      <td>11</td>\n",
              "      <td>8</td>\n",
              "      <td>11</td>\n",
              "      <td>25</td>\n",
              "      <td>11</td>\n",
              "      <td>57</td>\n",
              "      <td>11</td>\n",
              "      <td>33</td>\n",
              "      <td>1</td>\n",
              "      <td>1</td>\n",
              "      <td>1</td>\n",
              "      <td>1</td>\n",
              "      <td>7</td>\n",
              "      <td>9</td>\n",
              "    </tr>\n",
              "    <tr>\n",
              "      <th>3</th>\n",
              "      <td>Order_No_15332</td>\n",
              "      <td>User_Id_2910</td>\n",
              "      <td>Bike</td>\n",
              "      <td>3</td>\n",
              "      <td>Business</td>\n",
              "      <td>17</td>\n",
              "      <td>1</td>\n",
              "      <td>13:51:35</td>\n",
              "      <td>17</td>\n",
              "      <td>1</td>\n",
              "      <td>13:53:27</td>\n",
              "      <td>17</td>\n",
              "      <td>1</td>\n",
              "      <td>14:02:41</td>\n",
              "      <td>17</td>\n",
              "      <td>1</td>\n",
              "      <td>14:16:52</td>\n",
              "      <td>5</td>\n",
              "      <td>24.500000</td>\n",
              "      <td>0.0</td>\n",
              "      <td>-1.290503</td>\n",
              "      <td>36.809646</td>\n",
              "      <td>-1.303382</td>\n",
              "      <td>36.790658</td>\n",
              "      <td>Rider_Id_685</td>\n",
              "      <td>13</td>\n",
              "      <td>51</td>\n",
              "      <td>13</td>\n",
              "      <td>53</td>\n",
              "      <td>14</td>\n",
              "      <td>16</td>\n",
              "      <td>14</td>\n",
              "      <td>2</td>\n",
              "      <td>1</td>\n",
              "      <td>1</td>\n",
              "      <td>1</td>\n",
              "      <td>1</td>\n",
              "      <td>7</td>\n",
              "      <td>0</td>\n",
              "    </tr>\n",
              "    <tr>\n",
              "      <th>4</th>\n",
              "      <td>Order_No_21373</td>\n",
              "      <td>User_Id_1205</td>\n",
              "      <td>Bike</td>\n",
              "      <td>3</td>\n",
              "      <td>Business</td>\n",
              "      <td>11</td>\n",
              "      <td>2</td>\n",
              "      <td>11:30:28</td>\n",
              "      <td>11</td>\n",
              "      <td>2</td>\n",
              "      <td>11:34:45</td>\n",
              "      <td>11</td>\n",
              "      <td>2</td>\n",
              "      <td>11:47:19</td>\n",
              "      <td>11</td>\n",
              "      <td>2</td>\n",
              "      <td>11:56:04</td>\n",
              "      <td>6</td>\n",
              "      <td>24.400000</td>\n",
              "      <td>0.0</td>\n",
              "      <td>-1.281081</td>\n",
              "      <td>36.814423</td>\n",
              "      <td>-1.266467</td>\n",
              "      <td>36.792161</td>\n",
              "      <td>Rider_Id_858</td>\n",
              "      <td>11</td>\n",
              "      <td>30</td>\n",
              "      <td>11</td>\n",
              "      <td>34</td>\n",
              "      <td>11</td>\n",
              "      <td>56</td>\n",
              "      <td>11</td>\n",
              "      <td>47</td>\n",
              "      <td>1</td>\n",
              "      <td>1</td>\n",
              "      <td>1</td>\n",
              "      <td>1</td>\n",
              "      <td>7</td>\n",
              "      <td>7</td>\n",
              "    </tr>\n",
              "  </tbody>\n",
              "</table>\n",
              "</div>"
            ],
            "text/plain": [
              "         order_no       user_id  ... pickup_cluster_label  destination_cluster_label\n",
              "0  Order_No_19248  User_Id_3355  ...                   12                          1\n",
              "1  Order_No_12736  User_Id_3647  ...                    9                          9\n",
              "2    Order_No_768  User_Id_2154  ...                    7                          9\n",
              "3  Order_No_15332  User_Id_2910  ...                    7                          0\n",
              "4  Order_No_21373  User_Id_1205  ...                    7                          7\n",
              "\n",
              "[5 rows x 39 columns]"
            ]
          },
          "metadata": {
            "tags": []
          },
          "execution_count": 314
        }
      ]
    },
    {
      "cell_type": "code",
      "metadata": {
        "id": "bAqUvCl7eoCR",
        "colab_type": "code",
        "colab": {
          "base_uri": "https://localhost:8080/",
          "height": 745
        },
        "outputId": "a8fba955-fde9-498e-fa78-18e5862702f5"
      },
      "source": [
        "test.dtypes"
      ],
      "execution_count": 315,
      "outputs": [
        {
          "output_type": "execute_result",
          "data": {
            "text/plain": [
              "order_no                            object\n",
              "user_id                             object\n",
              "vehicle_type                        object\n",
              "platform_type                        int64\n",
              "personal_or_business              category\n",
              "placement_day_of_month               int64\n",
              "placement_weekday_mo_1               int64\n",
              "placement_time                      object\n",
              "confirmation_day_of_month            int64\n",
              "confirmation_weekday_mo_1            int64\n",
              "confirmation_time                   object\n",
              "arrival_at_pickup_day_of_month       int64\n",
              "arrival_at_pickup_weekday_mo_1       int64\n",
              "arrival_at_pickup_time              object\n",
              "pickup_day_of_month                  int64\n",
              "pickup_weekday_mo_1                  int64\n",
              "pickup_time                         object\n",
              "distance_km                          int64\n",
              "temperature                        float64\n",
              "precipitation_in_millimeters       float64\n",
              "pickup_lat                         float64\n",
              "pickup_long                        float64\n",
              "destination_lat                    float64\n",
              "destination_long                   float64\n",
              "rider_id                            object\n",
              "placement_hour                       int64\n",
              "placement_minute                     int64\n",
              "confirmation_hour                    int64\n",
              "confirmation_minute                  int64\n",
              "pickup_hour                          int64\n",
              "pickup_minute                        int64\n",
              "arrival_at_pickup_time_hour          int64\n",
              "arrival_at_pickup_time_minute        int64\n",
              "placement_ap                         int64\n",
              "confirmation_ap                      int64\n",
              "pickup_ap                            int64\n",
              "arrival_ap                           int64\n",
              "pickup_cluster_label              category\n",
              "destination_cluster_label         category\n",
              "dtype: object"
            ]
          },
          "metadata": {
            "tags": []
          },
          "execution_count": 315
        }
      ]
    },
    {
      "cell_type": "code",
      "metadata": {
        "id": "hIJXH_0LRy3I",
        "colab_type": "code",
        "colab": {}
      },
      "source": [
        "\n",
        "train['placement_hourfloat']=train.placement_hour+train.placement_minute/60.0\n",
        "\n",
        "train['confirmation_hourfloat']=train.confirmation_hour+train.confirmation_minute/60.0\n",
        "\n",
        "train['pickup_hourfloat']=train.pickup_hour+train.pickup_minute/60.0\n",
        "\n",
        "train['arrival_hourfloat']=train.arrival_at_pickup_time_hour+train.arrival_at_pickup_time_minute/60.0\n",
        "\n",
        "\n",
        "\n",
        "\n",
        "train['placement_x']=np.sin(2.*np.pi*train.placement_hourfloat/24.)\n",
        "\n",
        "train['confirmation_x']=np.sin(2.*np.pi*train.confirmation_hourfloat/24.)\n",
        "\n",
        "train['arrival_x']=np.sin(2.*np.pi*train.arrival_hourfloat/24.)\n",
        "\n",
        "train['pickup_x']=np.sin(2.*np.pi*train.pickup_hourfloat/24.)\n",
        "\n",
        "\n",
        "\n",
        "\n",
        "train['placement_y']=np.cos(2.*np.pi*train.placement_hourfloat/24.)\n",
        "\n",
        "train['confirmation_y']=np.cos(2.*np.pi*train.confirmation_hourfloat/24.)\n",
        "\n",
        "train['arrival_y']=np.cos(2.*np.pi*train.arrival_hourfloat/24.)\n",
        "\n",
        "train['pickup_y']=np.cos(2.*np.pi*train.pickup_hourfloat/24.)\n",
        "\n",
        "\n",
        "\n",
        "\n",
        "\n",
        "# TEST\n",
        "test['placement_hourfloat']=test.placement_hour+test.placement_minute/60.0\n",
        "\n",
        "test['confirmation_hourfloat']=test.confirmation_hour+test.confirmation_minute/60.0\n",
        "\n",
        "test['pickup_hourfloat']=test.pickup_hour+test.pickup_minute/60.0\n",
        "\n",
        "test['arrival_hourfloat']=test.arrival_at_pickup_time_hour+test.arrival_at_pickup_time_minute/60.0\n",
        "\n",
        "\n",
        "\n",
        "\n",
        "test['placement_x']=np.sin(2.*np.pi*test.placement_hourfloat/24.)\n",
        "\n",
        "test['confirmation_x']=np.sin(2.*np.pi*test.confirmation_hourfloat/24.)\n",
        "\n",
        "test['arrival_x']=np.sin(2.*np.pi*test.arrival_hourfloat/24.)\n",
        "\n",
        "test['pickup_x']=np.sin(2.*np.pi*test.pickup_hourfloat/24.)\n",
        "\n",
        "\n",
        "\n",
        "test['placement_y']=np.cos(2.*np.pi*test.placement_hourfloat/24.)\n",
        "\n",
        "test['confirmation_y']=np.cos(2.*np.pi*test.confirmation_hourfloat/24.)\n",
        "\n",
        "test['arrival_y']=np.cos(2.*np.pi*test.arrival_hourfloat/24.)\n",
        "\n",
        "test['pickup_y']=np.cos(2.*np.pi*test.pickup_hourfloat/24.)\n",
        "\n"
      ],
      "execution_count": 0,
      "outputs": []
    },
    {
      "cell_type": "code",
      "metadata": {
        "id": "NR8Ox3O_S7uO",
        "colab_type": "code",
        "outputId": "1472f28d-12be-49a9-e8cb-b08c1dd48053",
        "colab": {
          "base_uri": "https://localhost:8080/",
          "height": 363
        }
      },
      "source": [
        "train.columns"
      ],
      "execution_count": 317,
      "outputs": [
        {
          "output_type": "execute_result",
          "data": {
            "text/plain": [
              "Index(['order_no', 'user_id', 'vehicle_type', 'platform_type',\n",
              "       'personal_or_business', 'placement_day_of_month',\n",
              "       'placement_weekday_mo_1', 'placement_time', 'confirmation_day_of_month',\n",
              "       'confirmation_weekday_mo_1', 'confirmation_time',\n",
              "       'arrival_at_pickup_day_of_month', 'arrival_at_pickup_weekday_mo_1',\n",
              "       'arrival_at_pickup_time', 'pickup_day_of_month', 'pickup_weekday_mo_1',\n",
              "       'pickup_time', 'distance_km', 'temperature',\n",
              "       'precipitation_in_millimeters', 'pickup_lat', 'pickup_long',\n",
              "       'destination_lat', 'destination_long', 'rider_id',\n",
              "       'time_from_pickup_to_arrival', 'placement_hour', 'placement_minute',\n",
              "       'confirmation_hour', 'confirmation_minute', 'pickup_hour',\n",
              "       'pickup_minute', 'arrival_at_pickup_time_hour',\n",
              "       'arrival_at_pickup_time_minute', 'placement_ap', 'confirmation_ap',\n",
              "       'pickup_ap', 'arrival_ap', 'pickup_cluster_label',\n",
              "       'destination_cluster_label', 'placement_hourfloat',\n",
              "       'confirmation_hourfloat', 'pickup_hourfloat', 'arrival_hourfloat',\n",
              "       'placement_x', 'confirmation_x', 'arrival_x', 'pickup_x', 'placement_y',\n",
              "       'confirmation_y', 'arrival_y', 'pickup_y'],\n",
              "      dtype='object')"
            ]
          },
          "metadata": {
            "tags": []
          },
          "execution_count": 317
        }
      ]
    },
    {
      "cell_type": "code",
      "metadata": {
        "id": "aMPlLfCRSeMr",
        "colab_type": "code",
        "colab": {}
      },
      "source": [
        "x = train.drop(['time_from_pickup_to_arrival','order_no','user_id','vehicle_type', 'confirmation_time', 'arrival_at_pickup_time','pickup_time','placement_time','rider_id'],axis=1)\n",
        "X = pd.get_dummies(x)\n",
        "y = train[\"time_from_pickup_to_arrival\"]"
      ],
      "execution_count": 0,
      "outputs": []
    },
    {
      "cell_type": "code",
      "metadata": {
        "id": "xcGnase-dJv2",
        "colab_type": "code",
        "colab": {}
      },
      "source": [
        "test1 = test.drop(['user_id','vehicle_type','order_no', 'confirmation_time', 'arrival_at_pickup_time','pickup_time','placement_time','rider_id'],axis=1)\n",
        "test2 = pd.get_dummies(test1)"
      ],
      "execution_count": 0,
      "outputs": []
    },
    {
      "cell_type": "code",
      "metadata": {
        "id": "b648YJJuWf2l",
        "colab_type": "code",
        "colab": {}
      },
      "source": [
        "from sklearn.decomposition import PCA\n",
        "from sklearn.preprocessing import StandardScaler,MinMaxScaler"
      ],
      "execution_count": 0,
      "outputs": []
    },
    {
      "cell_type": "code",
      "metadata": {
        "id": "_BKMtcD0g02P",
        "colab_type": "code",
        "colab": {
          "base_uri": "https://localhost:8080/",
          "height": 35
        },
        "outputId": "a28460c3-1599-4fb5-800f-b34c26773c67"
      },
      "source": [
        "X.shape"
      ],
      "execution_count": 321,
      "outputs": [
        {
          "output_type": "execute_result",
          "data": {
            "text/plain": [
              "(21201, 72)"
            ]
          },
          "metadata": {
            "tags": []
          },
          "execution_count": 321
        }
      ]
    },
    {
      "cell_type": "code",
      "metadata": {
        "id": "NLEh0u2Cg7EY",
        "colab_type": "code",
        "colab": {
          "base_uri": "https://localhost:8080/",
          "height": 35
        },
        "outputId": "bfb06f43-8a19-4bb0-a191-7f85b107f6c8"
      },
      "source": [
        "test2.shape"
      ],
      "execution_count": 322,
      "outputs": [
        {
          "output_type": "execute_result",
          "data": {
            "text/plain": [
              "(7068, 72)"
            ]
          },
          "metadata": {
            "tags": []
          },
          "execution_count": 322
        }
      ]
    },
    {
      "cell_type": "code",
      "metadata": {
        "id": "hKnFNyDQe3w5",
        "colab_type": "code",
        "colab": {}
      },
      "source": [
        "sc =StandardScaler()\n",
        "X = sc.fit_transform(X)\n",
        "test = sc.transform(test2)\n",
        "pca =PCA()\n",
        "X  =  pca.fit_transform(X)\n",
        "test = pca.transform(test2)"
      ],
      "execution_count": 0,
      "outputs": []
    },
    {
      "cell_type": "code",
      "metadata": {
        "id": "4EHEUjaOV4C8",
        "colab_type": "code",
        "colab": {}
      },
      "source": [
        "pca =PCA()\n",
        "X  =  pca.fit_transform(X)\n",
        "test = pca.transform(test2)"
      ],
      "execution_count": 0,
      "outputs": []
    },
    {
      "cell_type": "code",
      "metadata": {
        "id": "-HtkLry1pWo_",
        "colab_type": "code",
        "colab": {}
      },
      "source": [
        "from sklearn.discriminant_analysis  import LinearDiscriminantAnalysis as LDA"
      ],
      "execution_count": 0,
      "outputs": []
    },
    {
      "cell_type": "code",
      "metadata": {
        "id": "ciF9ipelp4gc",
        "colab_type": "code",
        "colab": {}
      },
      "source": [
        "# lda =LDA()\n",
        "# X  =  lda.fit_transform(X,y)\n",
        "# test = lda.transform(test2)"
      ],
      "execution_count": 0,
      "outputs": []
    },
    {
      "cell_type": "code",
      "metadata": {
        "id": "hGndKit9SK7Y",
        "colab_type": "code",
        "colab": {}
      },
      "source": [
        "clf = lgb.LGBMRegressor(learning_rate= 0.1, min_data_in_leaf= 300, n_estimators= 100, num_leaves= 15, objective='regression', reg_alpha= 0.02)\n",
        "clf.fit(X,y)\n",
        "pred = clf.predict(test)\n",
        "\n",
        "clf_output = pd.DataFrame({\"Order_No\":sub['Order_No'], \n",
        "                           \"Time from Pickup to Arrival\": pred })\n",
        "clf_output.to_csv(\"submission6.csv\", index=False)"
      ],
      "execution_count": 0,
      "outputs": []
    },
    {
      "cell_type": "code",
      "metadata": {
        "id": "yK7sDEeJRywy",
        "colab_type": "code",
        "colab": {}
      },
      "source": [
        ""
      ],
      "execution_count": 0,
      "outputs": []
    },
    {
      "cell_type": "code",
      "metadata": {
        "id": "OV0UtNyMRyt8",
        "colab_type": "code",
        "colab": {}
      },
      "source": [
        ""
      ],
      "execution_count": 0,
      "outputs": []
    }
  ]
}